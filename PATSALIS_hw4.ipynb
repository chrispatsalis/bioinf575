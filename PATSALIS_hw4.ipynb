{
 "cells": [
  {
   "cell_type": "markdown",
   "metadata": {},
   "source": [
    "# Homework 4: Basically bioinformatics"
   ]
  },
  {
   "cell_type": "markdown",
   "metadata": {},
   "source": [
    "---\n",
    "## Topic areas\n",
    "* Functions\n",
    "* I/O operations\n",
    "* Dictionary lookups\n",
    "* Data structures\n",
    "* Control structures"
   ]
  },
  {
   "cell_type": "markdown",
   "metadata": {},
   "source": [
    "---\n",
    "## Introduction"
   ]
  },
  {
   "cell_type": "markdown",
   "metadata": {},
   "source": [
    "Bioinformatics is a special field that blends **biology**, **mathematics/statistics**, and **computer science**. One note that is often left off is that the computer science that is done is often in the form of _Big Data_ computer science. "
   ]
  },
  {
   "cell_type": "markdown",
   "metadata": {},
   "source": [
    "One reason many computer science classes in the bioinformatics field suffer, is they forget to bring this concept into the class. This happens for many reasons:\n",
    "* It is hard to get good data\n",
    "* Toy examples can easily teach the same concepts\n",
    "* Students are often in disparate disciplines"
   ]
  },
  {
   "cell_type": "markdown",
   "metadata": {},
   "source": [
    "However, this homework aims to introduce you to more \"bioinformatic-y\" workflows that often are not developed until you hit your lab. While the material that we will be covering is oriented towards bacterial genomics, the concepts should still apply as far as work flow is considered."
   ]
  },
  {
   "cell_type": "markdown",
   "metadata": {},
   "source": [
    "---\n",
    "## Background"
   ]
  },
  {
   "cell_type": "markdown",
   "metadata": {},
   "source": [
    "> _B. subtilis_ is a Gram-positive bacterium that is often used as a model organism in the study of bacterial chromosome replication. It is also considered to be the best studied Gram-positive bacterial.[$\\^1\\$](https://wickhamlabs.co.uk/technical-resource-centre/fact-sheet-bacillus-subtilis/)"
   ]
  },
  {
   "cell_type": "markdown",
   "metadata": {},
   "source": [
    "We will be working with some simulated _B. subtilis_ data today. Some key characteristics of the _B. subtilis_ genome is that it is a 4.13611 megabase (Mb) circular genome with a median GC% of 43.6[$\\^2\\$](https://www.ncbi.nlm.nih.gov/genome/?term=Bacillus%20subtilis[Organism]&cmd=DetailsSearch)."
   ]
  },
  {
   "cell_type": "markdown",
   "metadata": {},
   "source": [
    "<img src=\"https://www.researchgate.net/profile/Antoine_Danchin/publication/24345871/figure/fig1/AS:276900091056136@1443029534678/Circular-representation-of-the-B-subtilis-168-genome-for-several-specific-genome.png\" width=600/>"
   ]
  },
  {
   "cell_type": "markdown",
   "metadata": {},
   "source": [
    "### The Data\n",
    "A description of the provided data are:\n",
    "1. `b_subtilis_genome.fa`: A [FASTA format](https://blast.ncbi.nlm.nih.gov/Blast.cgi?CMD=Web&PAGE_TYPE=BlastDocs&DOC_TYPE=BlastHelp) file containing the reference sequence for _B. subtilis_\n",
    "    * A hallmark of the FASTA format is that the sequence header line precedes the sequences and always begins with a '>' character\n",
    "1. `normal.bam`: A [BAM format](https://samtools.github.io/hts-specs/SAMv1.pdf) file that contains the simulated short reads for a \"normal\" _B subtilis_ sample\n",
    "    * This is a very specialized format that needs special libraries to parse. However, just think of it as one read per line\n",
    "1. `normal.bam.bai`: A BAM index file used for random access\n",
    "1. `tumor.bam`: A [BAM format](https://samtools.github.io/hts-specs/SAMv1.pdf) file that contains the simulated short reads for a \"tumor\" _B subtilis_ sample\n",
    "1. `tumor.bam.bai`: A BAM index file used for random access\n",
    "\n",
    "The SAM/BAM format can be summarized in this table:</br>\n",
    "<img src='https://raw.githubusercontent.com/betteridiot/b575f19/master/assets/bam_format.png' width=600 />\n",
    "\n",
    "<div style=\"background-color:#ffc680\">\n",
    "  <h3>Important Note</h3>\n",
    "  <p>You will be using a special Python library for handling this data. This package is called BAMnostic.</p>\n",
    "    <p><b>Before</b> doing this homework, you will need to install BAMnostic. To do so, go to your terminal and type:<code>conda install -c conda-forge bamnostic</code></p> \n",
    "  <p>Consider taking a look at the <a href=\"https://bamnostic.readthedocs.io/en/latest/?badge=latest\">BAMnostic documentation</a> for more information.</p>\n",
    "</div>"
   ]
  },
  {
   "cell_type": "markdown",
   "metadata": {},
   "source": [
    "### Methods\n",
    "The data was simulated using the [Bacillus subtilis subsp. subtilis str. 168](https://support.illumina.com/sequencing/sequencing_software/igenome.html) provided by illumina's iGenomes collection.\n",
    "\n",
    "* [ART](https://www.niehs.nih.gov/research/resources/software/biostatistics/art/) was used to simulate the short reads (`fastq` files) based on the genome above using known base calling error rates and biases within specified illumina technologies\n",
    "* [SInC](https://sourceforge.net/projects/sincsimulator/files/?source=navbar) was used to modify the ART reads to simulate SNPS, CNVs, and indels within the reads\n",
    "* [VarSimLab](https://github.com/NabaviLab/VarSimLab) was used to orchestrate the other technologies and generate the short reads necessary for this assignment\n",
    "* [bwa](http://bio-bwa.sourceforge.net/) was used to align the reads to the reference genome\n",
    "* [samtools](http://www.htslib.org/) was used to sort, merge, and index the resultant files\n",
    "\n",
    "Assuming that all of the above software is installed correctly, I used the following command to generate the data:\n",
    ">```bash\n",
    "python Exome_Script.py -use_genome -c 7 -s -snp 10 -l 100 -sam output b_subtilis_genome.fa\n",
    "```"
   ]
  },
  {
   "cell_type": "markdown",
   "metadata": {},
   "source": [
    "This means that there are two samples (normal and tumor) of $\\approx$ 7x coverage of $\\approx$ 100 bp long reads with a SNP rate of 10% across the genome of _B. subtilis_. As this is a cancer cell line simulation workflow, the \"tumor\" sample should significantly differ from the \"normal\"."
   ]
  },
  {
   "cell_type": "markdown",
   "metadata": {},
   "source": [
    "---\n",
    "## Instructions"
   ]
  },
  {
   "cell_type": "markdown",
   "metadata": {},
   "source": [
    "This homework is designed to be as close to real genomics research as you can get without the math/stats/research. You are tasked to serially process both the `normal.bam` and `tumor.bam` sample files. For each position on the genome, you will track the number of reads that support that position (`depth`)  for a given sample, the counts of each base observed at that position (`counts`), and the consensus base at that position (`consensus`). The data structure you will be using looks like this:</br>\n",
    "<img src=\"https://raw.githubusercontent.com/betteridiot/b575f19/master/assets/hw4_structure.png\" align=\"middle\" width=600/>"
   ]
  },
  {
   "cell_type": "markdown",
   "metadata": {},
   "source": [
    "So, to reiterate, your data structure is:\n",
    "```python\n",
    "len(genome_positions) == len_of_genome\n",
    "type(genome_positions) == list\n",
    "\n",
    "# Every position will have this data structure\n",
    "genome_positions[0] = { \n",
    "    'normal': {\n",
    "        'depth': 0,          # number of reads that support this position\n",
    "        'counts': Counter(), # Count of observed bases at this position\n",
    "        'consensus': 0       # The most observed base at this position\n",
    "    },\n",
    "    'tumor': {\n",
    "        'depth': 0,          # number of reads that support this position\n",
    "        'counts': Counter(), # Count of observed bases at this position\n",
    "        'consensus': 0       # The most observed base at this position\n",
    "    }\n",
    "}\n",
    "```"
   ]
  },
  {
   "cell_type": "markdown",
   "metadata": {},
   "source": [
    "Using `bamnostic` you will iterate through the files (`normal.bam` and `tumor.bam`) one read at a time. You will have to perform the following steps:\n",
    "* Identify the read's starting position against the reference (`read.pos`)\n",
    "* Using that position:\n",
    "    * Iterate through the read's sequence (`read.seq`) one letter at a time\n",
    "    * Keep a count of all observed bases\n",
    "    * Keep count of number of reads that have overlapped that position\n",
    "    * Keep count of which base has been observed the most at that position"
   ]
  },
  {
   "cell_type": "markdown",
   "metadata": {},
   "source": [
    "For example:\n",
    "```python\n",
    ">>> print(normal_read1.pos, normal_read1.seq)\n",
    "20 GTATCCACAGAGGTTATCGACAACATTTTCACATTACCAACCCCTGTGGACAAGGTTTTTTCAACAGGTTGTCCGCTTTGTGGATAAGATTGTGACAACC\n",
    "\n",
    ">>> print(normal_read1.pos, normal_read1.seq)\n",
    "28 AGAGGTTATCGACCACATTTTCACATTACCAACCCGTGTGGACAAGGTTTTTTCAACAGGTTGTCCGCTTTGTGGATAAGATTGTGACAACCATTGCAAG\n",
    "\n",
    ">>> print(genome_positions[28]['normal'])\n",
    "{'depth': 2, 'counts': Counter({'A': 2}), 'consensus': 'A'}\n",
    "```"
   ]
  },
  {
   "cell_type": "markdown",
   "metadata": {},
   "source": [
    "<div style=\"background-color:#ffc680\">\n",
    "  <h3>Important Note</h3>\n",
    "    <p>You <b>only</b> need to use <code>read.seq</code> and <code>read.pos</code> to complete this assignment</p>\n",
    "    <p>You <b>do not</b> have to consider <em>qualities, flags, or CIGAR strings</em> at this time</p>\n",
    "</div>"
   ]
  },
  {
   "cell_type": "markdown",
   "metadata": {},
   "source": [
    "### The result"
   ]
  },
  {
   "cell_type": "markdown",
   "metadata": {},
   "source": [
    "When you have finished processing the files, you will need to produce a second `list` of `tuples` that if and only if the following condition is met:\n",
    "> More than half of the total reads at that specific position call a different consensus base in the tumor sample versus the normal sample at the same position\n",
    "\n",
    "The data each of the `tuple`s must contain are:\n",
    "1. The position of the variant\n",
    "1. The variant base\n",
    "1. The reference base\n",
    "1. The allele frequency of the variant base (counts of variant base calls/total base counts at the given position)"
   ]
  },
  {
   "cell_type": "markdown",
   "metadata": {},
   "source": [
    "---\n",
    "## The Coding Contract"
   ]
  },
  {
   "cell_type": "markdown",
   "metadata": {},
   "source": [
    "You should need to create no less than four (4) functions to finish this assignment:\n",
    "1. `initialize_positions`:\n",
    "    * Input:\n",
    "        * genome filename\n",
    "    * Output:\n",
    "        * initialized `genome_positions`\n",
    "1. `process_bam`: \n",
    "    * Input: \n",
    "        * filename to be processed\n",
    "        * Sample name (`'normal'` or `'tumor'`)\n",
    "        * `genome_positions`\n",
    "    * Output: Should return the modified `genome_positions` given that specific sample\n",
    "1. `process_read`:\n",
    "    * Input:\n",
    "        * `bamnostic.core.AlignedSegment`: This is just the read object type\n",
    "        * Sample name (`'normal'` or `'tumor'`)\n",
    "        * `genome_positions`\n",
    "    * Output: Should return the modified `genome_positions`\n",
    "1. `process_results`:\n",
    "    * Input: \n",
    "        * `positions`\n",
    "    * Output: \n",
    "        * The summarized variants as a `list`"
   ]
  },
  {
   "cell_type": "markdown",
   "metadata": {},
   "source": [
    "---\n",
    "## Academic Honor Code\n",
    "In accordance with Rackham's Academic Misconduct Policy; upon submission of your assignment, you (the student) are indicating acceptance of the following statement:\n",
    "\n",
    "> “I pledge that this submission is solely my own work.”\n",
    "\n",
    "As such, the instructors reserve the right to process any and all source code therein contained within the submitted notebooks with source code plagiarism detection software.\n",
    "\n",
    "Any violations of the this agreement will result in swift, sure, and significant punishment."
   ]
  },
  {
   "cell_type": "markdown",
   "metadata": {},
   "source": [
    "---\n",
    "## Due date\n",
    "This assignment is due **October 14th, 2019 by Noon (12 PM)**"
   ]
  },
  {
   "cell_type": "markdown",
   "metadata": {},
   "source": [
    "---\n",
    "## Submission\n",
    "> `<uniqname>_hw4.ipynb`\n",
    "\n",
    "### Example\n",
    "> `mdsherm_hw4.ipynb`\n",
    "\n",
    "We will *only* grade the most recent submission of your homework."
   ]
  },
  {
   "cell_type": "markdown",
   "metadata": {},
   "source": [
    "---\n",
    "## Late Policy\n",
    "Each submission will receive a **10%** penalty per day (up to three days) that the assignment is late.\n",
    "\n",
    "After that, the student will receive a **0** for the exam."
   ]
  },
  {
   "cell_type": "markdown",
   "metadata": {},
   "source": [
    "---\n",
    "## Good luck and code responsibly!\n",
    "\n",
    "---"
   ]
  },
  {
   "cell_type": "code",
   "execution_count": 1,
   "metadata": {},
   "outputs": [],
   "source": [
    "from collections import Counter\n",
    "import bamnostic as bs"
   ]
  },
  {
   "cell_type": "markdown",
   "metadata": {},
   "source": [
    "I have set this up so that you do not have to worry about dealing with `bamnostic` directly. You should only have to handle the `read` object from here on out."
   ]
  },
  {
   "cell_type": "code",
   "execution_count": 2,
   "metadata": {},
   "outputs": [],
   "source": [
    "\"\"\" \n",
    " This function will initialize a dictionary for each base position of a sequence.\n",
    " \n",
    "\n",
    "This function will take a file location as a string and open the file. The file will\n",
    "we read in line by line, and any line starting with >, will be ignored. The lines\n",
    "remaining will have any new line commands removed and a dictionary will be initiated\n",
    "for every nucleotide position of the sequence. Each of these dictionaries contain two \n",
    "dictionaries of its own, one for the 'normal' reads and one for the 'tumor' reads.\n",
    "Each contains \"depth\" (the number of nucleotides read at this positions), \"counts\" (the \n",
    "number of times each nucleotide appears at a position), and \"consensus\" (the most\n",
    "common nucleotide at said position).\n",
    "\n",
    "    Parameters: \n",
    "    genome_filename (string): The input argument of this function is a file location in \n",
    "                    string format. \n",
    "\n",
    "    Returns: \n",
    "    gene_positions (dictionary): The result of this function is a dictionary of the following structure:\n",
    "        {\"normal\": {\"depth\": 0, \"counts\": Counter(), \"consensus\": ''}, \\\n",
    "        \"tumor\":{\"depth\": 0, \"counts\": Counter(), \"consensus\": ''}}\n",
    "\n",
    "\"\"\"\n",
    "\n",
    "def initialize_positions(genome_filename):\n",
    "    gene_positions=[]\n",
    "    with open(genome_filename) as genome:\n",
    "        for line in genome:\n",
    "            if not line.startswith('>'):\n",
    "                line=line.strip()\n",
    "                for element in line:\n",
    "                    gene_positions.append({\"normal\": {\"depth\": 0, \"counts\": Counter(), \"consensus\": ''},\"tumor\":{\"depth\": 0, \"counts\": Counter(), \"consensus\": ''}})\n",
    "            \n",
    "    return gene_positions #return is a list of dictionaries for each position in the genome"
   ]
  },
  {
   "cell_type": "code",
   "execution_count": 3,
   "metadata": {},
   "outputs": [],
   "source": [
    "\"\"\" \n",
    " This function will read through each read of a bam file and pass it along to the \n",
    " function process_read(read,sample_name,genome_positions)\n",
    " \n",
    "\n",
    "This function will iterate through each read of a bam file, passing the read to the\n",
    "function process_read, and saving the returned values as the variable, genome_positions.\n",
    "At the end of the function it returns genome_positions\n",
    "\n",
    "    Parameters: \n",
    "    filename (string): The first argument of this function is a sequence reads (.bam) file location as a string\n",
    "    \n",
    "    sample_name (string): The second argument of this function is a string, \"normal\" or \"tumor\", indicating the\n",
    "                    desired position within the input dictionaries (genome_positions)\n",
    "    \n",
    "    genome_positions (dictionary): The third argument of this function is a dictionary, genome_positions, correlating\n",
    "                        with a nucleotide position of a sequence. The dictionary has the following structure:\n",
    "                        {\"normal\": {\"depth\": 0, \"counts\": Counter(), \"consensus\": ''}, \\\n",
    "                        \"tumor\":{\"depth\": 0, \"counts\": Counter(), \"consensus\": ''}}\n",
    "\n",
    "    Returns: \n",
    "    genome_positions (dictionary): the output of this function is a dictionary with the following structure:\n",
    "        {\"normal\": {\"depth\": 0, \"counts\": Counter(), \"consensus\": ''}, \\\n",
    "        \"tumor\":{\"depth\": 0, \"counts\": Counter(), \"consensus\": ''}}\n",
    "    \n",
    "\n",
    "\"\"\"\n",
    "\n",
    "def process_bam(filename, sample_name, genome_positions):\n",
    "    with bs.AlignmentFile(filename) as bam:\n",
    "        for read in bam:\n",
    "            genome_positions=process_read(read,sample_name, genome_positions)\n",
    "            \n",
    "            \n",
    "            \n",
    "    return genome_positions #return will update the dictionaries from genome_positions for the correct depth, consensus, counts"
   ]
  },
  {
   "cell_type": "code",
   "execution_count": 4,
   "metadata": {},
   "outputs": [],
   "source": [
    "\"\"\" \n",
    " This function will change the dictionaries, genome_positions, using the data from the\n",
    " .bam read files to update the 'depth', 'counts', and 'consensus' for each nucleotide\n",
    " position\n",
    " \n",
    "This function will update the input parameter, genome_positions, for the \"depth\" \n",
    "(the number of nucleotides read at this position), \"counts\" (the \n",
    "number of times each nucleotide appears at a position), and \"consensus\" (the most\n",
    "common nucleotide at said position). This function requires the package, bamnostics, to \n",
    "obtain the sequence and position of each read from the .bam file.\n",
    "\n",
    "    Parameters: \n",
    "    read (string): the input of this function is a sequence reads file (.bam) location, formatted as a string.\n",
    "    \n",
    "     sample_name (string): The second argument of this function is a string, \"normal\" or \"tumor\", indicating the\n",
    "                    desired position within the input dictionaries (genome_positions)\n",
    "    \n",
    "    genome_positions (dictionary): The third argument of this function is a dictionary, genome_positions, correlating\n",
    "                        with a nucleotide position of a sequence. the dictionary has the following structure:\n",
    "                        {\"normal\": {\"depth\": 0, \"counts\": Counter(), \"consensus\": ''}, \\\n",
    "                        \"tumor\":{\"depth\": 0, \"counts\": Counter(), \"consensus\": ''}}\n",
    "\n",
    "    Returns: \n",
    "    genome_positions (dictionary): the output of this function is a dictionary with the following structure:\n",
    "        {\"normal\": {\"depth\": 0, \"counts\": Counter(), \"consensus\": ''}, \\\n",
    "        \"tumor\":{\"depth\": 0, \"counts\": Counter(), \"consensus\": ''}}\n",
    "    \n",
    "\n",
    "\"\"\"\n",
    "\n",
    "def process_read(read, sample_name, genome_positions):\n",
    "    seq = read.seq\n",
    "    pos=read.pos\n",
    "    for x in range(pos,pos+len(seq)):\n",
    "        genome_positions[x][sample_name]['depth']+= 1\n",
    "        cN=genome_positions[x][sample_name]['counts']\n",
    "        cN.update(seq[x-pos])\n",
    "        genome_positions[x][sample_name]['consensus'] = cN.most_common()[0][0]\n",
    "    return genome_positions"
   ]
  },
  {
   "cell_type": "code",
   "execution_count": 5,
   "metadata": {},
   "outputs": [],
   "source": [
    "\"\"\" \n",
    " This function creates a tuple of (variant position, variant base, reference base,\n",
    " frequency of mutation) for mutations that occur at a frequency> 0.5\n",
    " \n",
    " This function will use the information from each nucleotide position dictionary\n",
    " to create a list of tuples containing the position of the variant, variant base, \n",
    " reference base, and frequency of the variant for mutations that occur at a frequency\n",
    " above 0.5\n",
    " \n",
    "\n",
    "\n",
    "    Parameters: \n",
    "    genome_positions (dictionary): the input of this function a dictionary with the following structure:\n",
    "                                  {\"normal\": {\"depth\": 0, \"counts\": Counter(), \"consensus\": ''}, \\\n",
    "                                    \"tumor\":{\"depth\": 0, \"counts\": Counter(), \"consensus\": ''}}\n",
    "        \"depth\": (the number of nucleotides read at this positions)\n",
    "        \"counts\": (the number of times each nucleotide appears at a position)\n",
    "        \"consensus\": (the most common nucleotide at said position)\n",
    "\n",
    "    Returns: \n",
    "    variant_list(list): The output of this function is a list of tuples, one tuple for each nucleotide position of which \n",
    "                        more than half of the total reads at that specific position call a different consensus base in \n",
    "                        the tumor sample versus the normal sample at the same position .\n",
    "                        Each tuple will contain the following information:\n",
    "                        1.The position of the variant\n",
    "                        2.The variant base\n",
    "                        3.The reference base\n",
    "                        4.The allele frequency of the variant base(counts of varian \n",
    "                          base calls/total base counts at the given position)\n",
    "    \n",
    "\n",
    "\"\"\"\n",
    "def process_results(genome_positions):\n",
    "    variant_list=[]\n",
    "    for pos in range(len(genome_positions)):\n",
    "        consensus_tumor=genome_positions[pos]['tumor']['consensus']\n",
    "        consensus_normal=genome_positions[pos]['normal']['consensus']\n",
    "        base_call=genome_positions[pos]['tumor']['depth']\n",
    "        if not base_call ==0:\n",
    "            cN=genome_positions[pos]['tumor']['counts']\n",
    "            frequency=cN.most_common()[0][1]/base_call\n",
    "            if consensus_tumor != consensus_normal and frequency >.5:\n",
    "                variant=(pos,genome_positions[pos]['tumor']['consensus'],genome_positions[pos]['normal']['consensus'],cN.most_common()[0][1]/genome_positions[pos]['tumor']['depth'] )\n",
    "                variant_list.append(variant)\n",
    "    return(variant_list)"
   ]
  },
  {
   "cell_type": "markdown",
   "metadata": {},
   "source": [
    "---\n",
    "## This last cell should work if all the code above it is run"
   ]
  },
  {
   "cell_type": "code",
   "execution_count": 6,
   "metadata": {},
   "outputs": [
    {
     "name": "stdout",
     "output_type": "stream",
     "text": [
      "[(303, 'A', 'T', 1.0), (424, 'A', 'G', 0.625), (426, 'A', 'C', 0.625), (427, 'A', 'C', 0.625), (429, 'A', 'G', 0.625), (430, 'G', 'T', 0.625), (431, 'A', 'G', 0.625), (432, 'C', 'G', 0.625), (433, 'C', 'A', 0.5555555555555556), (434, 'T', 'A', 0.5555555555555556)]\n"
     ]
    }
   ],
   "source": [
    "# Initialize the list\n",
    "genome_positions = initialize_positions('b_subtilis_genome.fa')\n",
    "\n",
    "# Process all the bam files\n",
    "for filename in ('normal.bam', 'tumor.bam'):\n",
    "    genome_positions = process_bam(filename, filename.split('.')[0], genome_positions)\n",
    "\n",
    "# Process the results\n",
    "results = process_results(genome_positions)\n",
    "\n",
    "# Print out the first 10\n",
    "print(results[:10])"
   ]
  },
  {
   "cell_type": "code",
   "execution_count": null,
   "metadata": {},
   "outputs": [],
   "source": []
  }
 ],
 "metadata": {
  "kernelspec": {
   "display_name": "Python 3",
   "language": "python",
   "name": "python3"
  },
  "language_info": {
   "codemirror_mode": {
    "name": "ipython",
    "version": 3
   },
   "file_extension": ".py",
   "mimetype": "text/x-python",
   "name": "python",
   "nbconvert_exporter": "python",
   "pygments_lexer": "ipython3",
   "version": "3.7.3"
  }
 },
 "nbformat": 4,
 "nbformat_minor": 4
}
