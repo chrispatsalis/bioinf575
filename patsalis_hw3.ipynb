{
 "cells": [
  {
   "cell_type": "markdown",
   "metadata": {},
   "source": [
    "# Homework 3: Functional file parsing"
   ]
  },
  {
   "cell_type": "markdown",
   "metadata": {},
   "source": [
    "---\n",
    "## Topic areas\n",
    "* Functions\n",
    "* I/O operations\n",
    "* String operations\n",
    "* Data structures"
   ]
  },
  {
   "cell_type": "markdown",
   "metadata": {},
   "source": [
    "---\n",
    "## Background"
   ]
  },
  {
   "cell_type": "markdown",
   "metadata": {},
   "source": [
    "[ClinVar][1] is a freely accessible, public archive of reports of the relationships among human variations and phenotypes, with supporting evidence.\n",
    "\n",
    "For this assignment, you will be working with a Variant Call Format (VCF) file. Below are the necessary details regarding this assignment, but consider looking [here][2] for a more detailed description of the file format. The purpose of the VCF format is to store gene sequence variations in a plain-text form.\n",
    "\n",
    "The data you will be working with (`clinvar_20190923_short.vcf`) contains several allele frequencies from different databases. The one to look for in this assignment is from ExAC database. More information about the database can be found [here][3].\n",
    "\n",
    "\n",
    "### The file format\n",
    "The beginning of every VCF file contains various sets of information:\n",
    "* Meta-information (details about the experiment or configuration) lines start with **`##`**\n",
    "    * These lines are helpful in understanding specialized keys found in the `INFO` column. It is in these sections that one can find:\n",
    "        * The description of the key\n",
    "        * The data type of the values\n",
    "        * The default value of the values\n",
    "* Header lines (column names) start with **`#`**\n",
    "\n",
    "From there on, each line is made up of tab (`\\t`) separated values that make up eight (8) columns. Those columns are:\n",
    "1. CHROM (chromosome)\n",
    "2. POS (base pair position of the variant)\n",
    "3. ID (identifier if applicable; `.` if not applicable/missing)\n",
    "4. REF (reference base)\n",
    "5. ALT (alternate base(s): comma (`,`) separated if applicable)\n",
    "6. QUAL (Phred-scaled quality score; `.` if not applicable/missing)\n",
    "7. FILTER (filter status; `.` if not applicable/missing)\n",
    "8. INFO (any additional information about the variant)\n",
    "    * Semi-colon (`;`) separated key-value pairs\n",
    "    * Key-value pairs are equal sign (`=`) separated (key on the left, value on the right)\n",
    "    * If a key has multiple values, the values are comma (`,`) separated\n",
    "\n",
    "#### Homework specific information\n",
    "The given data (`clinvar_20190923_short.vcf`) is a specialized form of the VCF file. As such, there are some additional details to consider when parsing for this assignment. You will be expected to consider two (2) special types of keys:\n",
    "1. The `AF_EXAC` key that describes the allele frequencies from the ExAC database\n",
    "    > `##INFO=<ID=AF_EXAC,Number=1,Type=Float,Description=\"allele frequencies from ExAC\">`\n",
    "    * The data included are `float`ing point numbers\n",
    "2. The `CLNDN` key that gives all the names the given variant is associated with\n",
    "    > `##INFO=<ID=CLNDN,Number=.,Type=String,Description=\"ClinVar's preferred disease name for the concept specified by disease identifiers in CLNDISDB\">`\n",
    "    * The data are`str`ings. **However**, if there are multiple diseases associated with a given variant, the diseases are pipe (`|`) separated (there are 178 instances of this case) \n",
    "\n",
    "---\n",
    "[1]: https://www.ncbi.nlm.nih.gov/clinvar/intro/\n",
    "[2]: https://samtools.github.io/hts-specs/VCFv4.3.pdf\n",
    "[3]: http://exac.broadinstitute.org"
   ]
  },
  {
   "cell_type": "markdown",
   "metadata": {},
   "source": [
    "## Instructions"
   ]
  },
  {
   "cell_type": "markdown",
   "metadata": {},
   "source": [
    "It is safe to assume that this homework will take a considerable amount of string operations to complete. But, it is important to note that this skill is _incredibly_ powerful in bioinformatics. Many dense, plain-text files exist in the bioinformatic domain, and mastering the ability to parse them is integral to many people's research. While the format we see here has a very clinical use case, other formats exist that you will likely encounter: CSV, TSV, SAM, GFF3, etc.\n",
    "\n",
    "Therefore, we <u>***STRONGLY ENCOURAGE***</u> you to:\n",
    "* Come to office hours \n",
    "* Schedule one-on-one meetings\n",
    "* Post to GitHub\n",
    "* Ask a friend \n",
    "\n",
    "Ensure you _truly_ understand the concepts therein. The concepts here are not esoteric, but very practical. Also, **ask early, ask often**.\n",
    "\n",
    "That said, on to the instructions for the assignment.\n",
    "\n",
    "### Expectations\n",
    "You are expected to:\n",
    "1. Move the `clinvar_20190923_short.vcf` to the same folder as this notebook\n",
    "1. Write a function called `parse_line` that:\n",
    "    1. Takes a `str`ing as an argument\n",
    "    2. Extract the `AF_EXAC` data to determine the rarity of the variant\n",
    "        1. If the disease is rare:\n",
    "            * `return` an a `list` of associated diseases\n",
    "        2. If the disease is not rare:\n",
    "            * `return` an empty `list`\n",
    "2. Write another function called `read_file` that:\n",
    "    1. Takes a `str`ing as an argument representing the file to be opened\n",
    "    2. Open the file\n",
    "    3. Read the file _line by line_.\n",
    "        * **Note**: You are expected to do this one line at a time. The reasoning is that if the file is sufficiently large, you may not have the memory available to hold it. So, **do not** use `readlines()`! \n",
    "           * If you do, your grade will be reduced\n",
    "    4. Passes the line to `parse_line`\n",
    "    5. Use a dictionary to count the results given by `parse_line` to keep a running tally (or count) of the number of times a specific disease is observed\n",
    "    6. `return` that dictionary\n",
    "3. `print` the results from `read_file` when it is complete\n",
    "4. Each function must have its own cell\n",
    "5. The code to run all of your functions must have its own cell"
   ]
  },
  {
   "cell_type": "markdown",
   "metadata": {},
   "source": [
    "---\n",
    "## Academic Honor Code\n",
    "In accordance with Rackham's Academic Misconduct Policy; upon submission of your assignment, you (the student) are indicating acceptance of the following statement:\n",
    "\n",
    "> “I pledge that this submission is solely my own work.”\n",
    "\n",
    "As such, the instructors reserve the right to process any and all source code therein contained within the submitted notebooks with source code plagiarism detection software.\n",
    "\n",
    "Any violations of the this agreement will result in swift, sure, and significant punishment."
   ]
  },
  {
   "cell_type": "markdown",
   "metadata": {},
   "source": [
    "---\n",
    "## Due date\n",
    "This assignment is due **October 7th, 2019 by Noon (12 PM)**"
   ]
  },
  {
   "cell_type": "markdown",
   "metadata": {},
   "source": [
    "---\n",
    "## Submission\n",
    "> `<uniqname>_hw3.ipynb`\n",
    "\n",
    "### Example\n",
    "> `mdsherm_hw3.ipynb`\n",
    "\n",
    "We will *only* grade the most recent submission of your exam."
   ]
  },
  {
   "cell_type": "markdown",
   "metadata": {},
   "source": [
    "---\n",
    "## Late Policy\n",
    "Each submission will receive a **10%** penalty per day (up to three days) that the assignment is late.\n",
    "\n",
    "After that, the student will receive a **0** for the exam."
   ]
  },
  {
   "cell_type": "markdown",
   "metadata": {},
   "source": [
    "---\n",
    "## Good luck and code responsibly!\n",
    "\n",
    "---"
   ]
  },
  {
   "cell_type": "code",
   "execution_count": 13,
   "metadata": {},
   "outputs": [],
   "source": [
    "# Define your read_file function here\n",
    "\"\"\" \n",
    " This function will open a vcf file and read in contents line by line.\n",
    " \n",
    "\n",
    "This function will take a file location as a string and open the file. Each\n",
    "line of the string will be read in, one at a time, and passed to the function \n",
    "parse_line() if it does not start with a #. The results of that function are \n",
    "the CLNDN column of the line, assuming it fits the parameters. The result of \n",
    "parse_line() will be saved as the variable diseases and used to create a\n",
    "dictionary of the results(disease_dict), including the frequency of \n",
    "which the result is returned.\n",
    "\n",
    "    Parameters: \n",
    "    arg1 (string): The input argument of this function is a file location in \n",
    "                    string format. \n",
    "\n",
    "    Returns: \n",
    "    Dictionary: The result of this function is a dictionary, disease_dict,\n",
    "    that displays the associated diseases and their frquency among rare \n",
    "    gene variants.\n",
    "\n",
    "\"\"\"\n",
    "\n",
    "clinvar= 'clinvar_20190923_short.vcf'\n",
    "def read_file(string):\n",
    "    disease_dict={}\n",
    "    with open(string, 'r') as clinvar_file:\n",
    "        while True:\n",
    "            line=clinvar_file.readline() #will continue to read line by line until EOF\n",
    "            if not line:\n",
    "                break\n",
    "            if not line.startswith(\"#\"): #Ignores the ID lines at the beginning of file\n",
    "                diseases=parse_line(line)\n",
    "                for x in diseases:\n",
    "                    if x in disease_dict:\n",
    "                        disease_dict[x]=disease_dict[x]+1\n",
    "                    else:\n",
    "                        disease_dict[x]=1\n",
    "            \n",
    "           \n",
    "    return(disease_dict)"
   ]
  },
  {
   "cell_type": "code",
   "execution_count": 14,
   "metadata": {},
   "outputs": [],
   "source": [
    "\"\"\" \n",
    "   This function will parse a vcf text file, identifying the gene variant rarity \n",
    "   and creating a list of the associated diseases for each variant. \n",
    "\n",
    "    This function will take in a vcf text line and parse the argument for the \n",
    "    AF_EXAC value. If the gene variant has a value <= .0001, It creates a list of\n",
    "    the associated clinical diseases(CLNDN column) and returns it. If the gene variant\n",
    "    has an AF_EXAC value >.0001, it returns an empty list.\n",
    "\n",
    "    Parameters: \n",
    "    arg1 (string): This function takes in a vcf file line in the format of a string. \n",
    "\n",
    "\n",
    "    Returns: \n",
    "    List: This function will return a list of associated clinical diseases for rare\n",
    "    gene variants, as defined by an AF_EXAC value <= .0001, and an empty list for\n",
    "    common gene variants.\n",
    "\n",
    "\"\"\"\n",
    "\n",
    "def parse_line(string):\n",
    "    CLNDN_disease_clean=[]\n",
    "    line_lists=string.strip().split(\"\\t\")\n",
    "    line_lists=line_lists[7].strip().split(\";\")\n",
    "    for element in line_lists:\n",
    "        if element.startswith(\"AF_EXAC\") ==True: #index to AF_EXAC column and compare values\n",
    "            AF_EXAC_list2=element.split(\"=\")\n",
    "            AF_EXACnum=float(AF_EXAC_list2[1])\n",
    "            if AF_EXACnum == 0.0001 or AF_EXACnum< 0.0001:\n",
    "                for element2 in line_lists:\n",
    "                    if element2.startswith(\"CLNDN\") == True: #Index to diseases to create list\n",
    "                        CLNDN_list = element2.split('=')\n",
    "                        CLNDN_disease=CLNDN_list[1]\n",
    "                        CLNDN_disease1=CLNDN_disease.split('|')\n",
    "                        for element1 in CLNDN_disease1:\n",
    "                            if element1 != 'not_provided' and element1 !='not_specified':\n",
    "                                CLNDN_disease_clean.append(element1)\n",
    "                        \n",
    "    return(CLNDN_disease_clean)"
   ]
  },
  {
   "cell_type": "code",
   "execution_count": 15,
   "metadata": {},
   "outputs": [
    {
     "data": {
      "text/plain": [
       "{'Immunodeficiency_38_with_basal_ganglia_calcification': 4,\n",
       " 'Congenital_myasthenic_syndrome': 3,\n",
       " 'Myasthenic_syndrome,_congenital,_8': 85,\n",
       " 'Immunodeficiency_16': 2,\n",
       " 'Ehlers-Danlos_syndrome,_progeroid_type,_2': 2,\n",
       " 'Spondyloepimetaphyseal_dysplasia_with_joint_laxity': 1,\n",
       " 'Spinocerebellar_ataxia_21': 1,\n",
       " 'Severe_Myopia': 1,\n",
       " 'Neurodevelopmental_Disability': 2,\n",
       " 'hypotonia': 2,\n",
       " 'Cleft_palate': 1,\n",
       " 'Strabismus': 1,\n",
       " 'Nystagmus': 1,\n",
       " 'Hypothyroidism': 1,\n",
       " 'Intellectual_disability': 1,\n",
       " 'Seizures': 2,\n",
       " 'Muscular_hypotonia': 2,\n",
       " 'Global_developmental_delay': 2,\n",
       " 'Dystonia': 1,\n",
       " 'Failure_to_thrive': 1,\n",
       " 'Growth_delay': 1,\n",
       " 'Developmental_regression': 1,\n",
       " 'Expressive_language_delay': 1,\n",
       " 'Limb_hypertonia': 1,\n",
       " 'Inability_to_walk': 1,\n",
       " 'Infantile_axial_hypotonia': 1,\n",
       " 'Multifocal_epileptiform_discharges': 1,\n",
       " 'EEG_with_generalized_epileptiform_discharges': 1,\n",
       " 'Upper_limb_hypertonia': 1,\n",
       " 'Myelodysplastic_syndrome': 1,\n",
       " 'Inborn_genetic_diseases': 2,\n",
       " 'Mental_retardation,_autosomal_dominant_42': 1,\n",
       " 'Idiopathic_generalized_epilepsy': 14,\n",
       " 'Shprintzen-Goldberg_syndrome': 37,\n",
       " 'Cardiovascular_phenotype': 14,\n",
       " 'Marfanoid_habitus': 1}"
      ]
     },
     "execution_count": 15,
     "metadata": {},
     "output_type": "execute_result"
    }
   ],
   "source": [
    "read_file(clinvar)"
   ]
  },
  {
   "cell_type": "markdown",
   "metadata": {},
   "source": [
    "---"
   ]
  },
  {
   "cell_type": "code",
   "execution_count": 16,
   "metadata": {},
   "outputs": [
    {
     "name": "stdout",
     "output_type": "stream",
     "text": [
      "{'Cardiovascular_phenotype': 14,\n",
      " 'Cleft_palate': 1,\n",
      " 'Congenital_myasthenic_syndrome': 3,\n",
      " 'Developmental_regression': 1,\n",
      " 'Dystonia': 1,\n",
      " 'EEG_with_generalized_epileptiform_discharges': 1,\n",
      " 'Ehlers-Danlos_syndrome,_progeroid_type,_2': 2,\n",
      " 'Expressive_language_delay': 1,\n",
      " 'Failure_to_thrive': 1,\n",
      " 'Global_developmental_delay': 2,\n",
      " 'Growth_delay': 1,\n",
      " 'Hypothyroidism': 1,\n",
      " 'Idiopathic_generalized_epilepsy': 14,\n",
      " 'Immunodeficiency_16': 2,\n",
      " 'Immunodeficiency_38_with_basal_ganglia_calcification': 4,\n",
      " 'Inability_to_walk': 1,\n",
      " 'Inborn_genetic_diseases': 2,\n",
      " 'Infantile_axial_hypotonia': 1,\n",
      " 'Intellectual_disability': 1,\n",
      " 'Limb_hypertonia': 1,\n",
      " 'Marfanoid_habitus': 1,\n",
      " 'Mental_retardation,_autosomal_dominant_42': 1,\n",
      " 'Multifocal_epileptiform_discharges': 1,\n",
      " 'Muscular_hypotonia': 2,\n",
      " 'Myasthenic_syndrome,_congenital,_8': 85,\n",
      " 'Myelodysplastic_syndrome': 1,\n",
      " 'Neurodevelopmental_Disability': 2,\n",
      " 'Nystagmus': 1,\n",
      " 'Seizures': 2,\n",
      " 'Severe_Myopia': 1,\n",
      " 'Shprintzen-Goldberg_syndrome': 37,\n",
      " 'Spinocerebellar_ataxia_21': 1,\n",
      " 'Spondyloepimetaphyseal_dysplasia_with_joint_laxity': 1,\n",
      " 'Strabismus': 1,\n",
      " 'Upper_limb_hypertonia': 1,\n",
      " 'hypotonia': 2}\n"
     ]
    }
   ],
   "source": [
    "# DO NOT MODIFY THIS CELL!\n",
    "# If your code works as expected, this cell should print the results\n",
    "from pprint import pprint\n",
    "pprint(read_file('clinvar_20190923_short.vcf'))"
   ]
  }
 ],
 "metadata": {
  "kernelspec": {
   "display_name": "Python 3",
   "language": "python",
   "name": "python3"
  },
  "language_info": {
   "codemirror_mode": {
    "name": "ipython",
    "version": 3
   },
   "file_extension": ".py",
   "mimetype": "text/x-python",
   "name": "python",
   "nbconvert_exporter": "python",
   "pygments_lexer": "ipython3",
   "version": "3.7.3"
  }
 },
 "nbformat": 4,
 "nbformat_minor": 4
}
